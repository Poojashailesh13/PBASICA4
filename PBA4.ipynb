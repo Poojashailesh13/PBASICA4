{
 "cells": [
  {
   "cell_type": "raw",
   "id": "05430f8d",
   "metadata": {},
   "source": [
    "1. What exactly is []?\n",
    "ANS- [ ] represents an empty container of list"
   ]
  },
  {
   "cell_type": "raw",
   "id": "7d1a77d9",
   "metadata": {},
   "source": [
    "2. In a list of values stored in a variable called spam, how would you assign the value &#39;hello&#39; as the\n",
    "third value? (Assume [2, 4, 6, 8, 10] are in spam.)\n",
    ".\n",
    "ans- spam = [2,3,4,6,8,10]\n",
    "spam[2]='hello'\n",
    "spam"
   ]
  },
  {
   "cell_type": "raw",
   "id": "09be253f",
   "metadata": {},
   "source": [
    "Lets pretend the spam includes the list ['a', 'b', 'c', 'd'] for the next three queries\n",
    "3. What is the value of spam[int(int('3' * 2) / 11)]?\n",
    "ans-spam = ['a', 'b', 'c', 'd']\n",
    "     spam[int(int('3' * 2) / 11)] = 'd'\n",
    "    \n",
    "4. What is the value of spam[-1]?\n",
    "ans- 'd'\n",
    "\n",
    "5. What is the value of spam[:2]?\n",
    "ans- ['a', 'b']\n",
    "    "
   ]
  },
  {
   "cell_type": "raw",
   "id": "f8f96c87",
   "metadata": {},
   "source": [
    "Lets pretend bacon has the list [3.14, 'cat', 11, 'cat', True] for the next three questions.\n",
    "6. What is the value of bacon.index('cat')?\n",
    "ans- 1\n",
    "7. How does bacon.append(99) change the look of the list value in bacon?\n",
    "ans- bacon.append(99) #appends at end\n",
    "      bacon\n",
    "    [3.14, 'cat', 11, 'cat', True, 99]\n",
    "8. How does bacon.remove(cat) change the look of the list in bacon?\n",
    "ans- bacon.remove('cat') # as it parses through the list as soon as it sees cat it removes it from the list and exit\n",
    "     bacon\n",
    "    [3.14, 11, 'cat', True, 99]"
   ]
  },
  {
   "cell_type": "raw",
   "id": "3d2c455a",
   "metadata": {},
   "source": [
    "9. What are the list concatenation and list replication operators?\n",
    "ans- #Concatenation:\n",
    "l1 = [1,2,3,4]\n",
    "l2 = [5,6,7,8]\n",
    "l1+l2\n",
    "#Replication:\n",
    "l1 = [1,2,3,4]\n",
    "l2 = l1*1\n",
    "l2"
   ]
  },
  {
   "cell_type": "raw",
   "id": "53289d3c",
   "metadata": {},
   "source": [
    "10. What is difference between the list methods append() and insert()?\n",
    "ans- l1 = [1,2,3,4]\n",
    "l1.append(5) #It adds element to the end of list.\n",
    "l1\n",
    "l1.insert(2,10) #it inserts element at particular index/position.\n",
    "l1"
   ]
  },
  {
   "cell_type": "raw",
   "id": "b0af75ed",
   "metadata": {},
   "source": [
    "11. What are the two methods for removing items from a list?\n",
    "ans- #Method 1:\n",
    "l1 = [1,2,3,4]\n",
    "print(l1)\n",
    "l1.remove(3)\n",
    "l1\n",
    "#method 2:\n",
    "l1 = [1,2,3,4]\n",
    "print(l1)\n",
    "l1.pop(0)\n",
    "l1"
   ]
  },
  {
   "cell_type": "raw",
   "id": "0e909587",
   "metadata": {},
   "source": [
    "12. Describe how list values and string values are identical.\n",
    "ans- both list and string are ordered collection of elements except in list it can contain different data types."
   ]
  },
  {
   "cell_type": "raw",
   "id": "aabefd3d",
   "metadata": {},
   "source": [
    "13. Whats the difference between tuples and lists?\n",
    "ans- list are mutable but tuples are immutable i.e we can add,delete,reassign elements in list which we cannot do in tuples."
   ]
  },
  {
   "cell_type": "raw",
   "id": "1a0fbe34",
   "metadata": {},
   "source": [
    "14. How do you type a tuple value that only contains the integer 42?\n",
    "ans- (42,)"
   ]
  },
  {
   "cell_type": "raw",
   "id": "1d784e0a",
   "metadata": {},
   "source": [
    "15. How do you get a list values tuple form? How do you get a tuple values list form?\n",
    "ans- tuple([1,2,3])\n",
    "list((1,2,3))"
   ]
  },
  {
   "cell_type": "raw",
   "id": "a70c7052",
   "metadata": {},
   "source": [
    "16. Variables that \"contain\"list values are not necessarily lists themselves. Instead, what do they\n",
    "contain?\n",
    "ans- a = [1,2,3]\n",
    "type(a)\n",
    "#its just a name reference because list itself is a object."
   ]
  },
  {
   "cell_type": "raw",
   "id": "e9f250da",
   "metadata": {},
   "source": [
    "17. How do you distinguish between copy.copy() and copy.deepcopy()?\n",
    "ans- deepcopy does not change original object if in future we change deepcopied object. where as original object changes with copy()"
   ]
  }
 ],
 "metadata": {
  "kernelspec": {
   "display_name": "Python 3 (ipykernel)",
   "language": "python",
   "name": "python3"
  },
  "language_info": {
   "codemirror_mode": {
    "name": "ipython",
    "version": 3
   },
   "file_extension": ".py",
   "mimetype": "text/x-python",
   "name": "python",
   "nbconvert_exporter": "python",
   "pygments_lexer": "ipython3",
   "version": "3.9.7"
  }
 },
 "nbformat": 4,
 "nbformat_minor": 5
}
